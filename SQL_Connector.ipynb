{
 "cells": [
  {
   "cell_type": "code",
   "execution_count": 9,
   "metadata": {},
   "outputs": [],
   "source": [
    "#importing libraries\n",
    "import pandas as pd\n",
    "import mysql.connector\n",
    "import numpy as np"
   ]
  },
  {
   "cell_type": "code",
   "execution_count": 10,
   "metadata": {},
   "outputs": [
    {
     "data": {
      "text/html": [
       "<div>\n",
       "<style scoped>\n",
       "    .dataframe tbody tr th:only-of-type {\n",
       "        vertical-align: middle;\n",
       "    }\n",
       "\n",
       "    .dataframe tbody tr th {\n",
       "        vertical-align: top;\n",
       "    }\n",
       "\n",
       "    .dataframe thead th {\n",
       "        text-align: right;\n",
       "    }\n",
       "</style>\n",
       "<table border=\"1\" class=\"dataframe\">\n",
       "  <thead>\n",
       "    <tr style=\"text-align: right;\">\n",
       "      <th></th>\n",
       "      <th>Bus_name</th>\n",
       "      <th>Bus_type</th>\n",
       "      <th>Start_time</th>\n",
       "      <th>End_time</th>\n",
       "      <th>Total_duration</th>\n",
       "      <th>Price</th>\n",
       "      <th>Seats_Available</th>\n",
       "      <th>Ratings</th>\n",
       "      <th>Route_link</th>\n",
       "      <th>Route_name</th>\n",
       "    </tr>\n",
       "  </thead>\n",
       "  <tbody>\n",
       "    <tr>\n",
       "      <th>0</th>\n",
       "      <td>MMK Travels</td>\n",
       "      <td>VE A/C Seater / Sleeper (2+1)</td>\n",
       "      <td>21:30</td>\n",
       "      <td>06:00</td>\n",
       "      <td>08h 30m</td>\n",
       "      <td>INR 700</td>\n",
       "      <td>5 Seats available</td>\n",
       "      <td>4.5\\n542</td>\n",
       "      <td>https://www.redbus.in/bus-tickets/kozhikode-to...</td>\n",
       "      <td>Kozhikode to Bangalore</td>\n",
       "    </tr>\n",
       "    <tr>\n",
       "      <th>1</th>\n",
       "      <td>P K Travels</td>\n",
       "      <td>A/C Sleeper (2+1)</td>\n",
       "      <td>20:00</td>\n",
       "      <td>06:00</td>\n",
       "      <td>10h 00m</td>\n",
       "      <td>INR 950</td>\n",
       "      <td>15 Seats available</td>\n",
       "      <td>4.3\\n211</td>\n",
       "      <td>https://www.redbus.in/bus-tickets/kozhikode-to...</td>\n",
       "      <td>Kozhikode to Bangalore</td>\n",
       "    </tr>\n",
       "    <tr>\n",
       "      <th>2</th>\n",
       "      <td>SAAM BUS</td>\n",
       "      <td>VE A/C Sleeper (2+1)</td>\n",
       "      <td>20:30</td>\n",
       "      <td>06:15</td>\n",
       "      <td>09h 45m</td>\n",
       "      <td>INR 800</td>\n",
       "      <td>5 Seats available</td>\n",
       "      <td>4.4\\n101</td>\n",
       "      <td>https://www.redbus.in/bus-tickets/kozhikode-to...</td>\n",
       "      <td>Kozhikode to Bangalore</td>\n",
       "    </tr>\n",
       "    <tr>\n",
       "      <th>3</th>\n",
       "      <td>AdSuraj Holidays</td>\n",
       "      <td>VE A/C Sleeper (2+1)</td>\n",
       "      <td>22:00</td>\n",
       "      <td>07:15</td>\n",
       "      <td>09h 15m</td>\n",
       "      <td>INR 950</td>\n",
       "      <td>6 Seats available</td>\n",
       "      <td>4.1\\n258</td>\n",
       "      <td>https://www.redbus.in/bus-tickets/kozhikode-to...</td>\n",
       "      <td>Kozhikode to Bangalore</td>\n",
       "    </tr>\n",
       "    <tr>\n",
       "      <th>4</th>\n",
       "      <td>Silver Line Travels</td>\n",
       "      <td>NON A/C Semi Sleeper (2+2)</td>\n",
       "      <td>20:30</td>\n",
       "      <td>05:45</td>\n",
       "      <td>09h 15m</td>\n",
       "      <td>INR 599</td>\n",
       "      <td>18 Seats available</td>\n",
       "      <td>4.2\\n280</td>\n",
       "      <td>https://www.redbus.in/bus-tickets/kozhikode-to...</td>\n",
       "      <td>Kozhikode to Bangalore</td>\n",
       "    </tr>\n",
       "    <tr>\n",
       "      <th>...</th>\n",
       "      <td>...</td>\n",
       "      <td>...</td>\n",
       "      <td>...</td>\n",
       "      <td>...</td>\n",
       "      <td>...</td>\n",
       "      <td>...</td>\n",
       "      <td>...</td>\n",
       "      <td>...</td>\n",
       "      <td>...</td>\n",
       "      <td>...</td>\n",
       "    </tr>\n",
       "    <tr>\n",
       "      <th>3276</th>\n",
       "      <td>NaN</td>\n",
       "      <td>NaN</td>\n",
       "      <td>NaN</td>\n",
       "      <td>NaN</td>\n",
       "      <td>NaN</td>\n",
       "      <td>NaN</td>\n",
       "      <td>NaN</td>\n",
       "      <td>NaN</td>\n",
       "      <td>https://www.redbus.in/bus-tickets/lucknow-to-v...</td>\n",
       "      <td>Lucknow to Varanasi</td>\n",
       "    </tr>\n",
       "    <tr>\n",
       "      <th>3277</th>\n",
       "      <td>NaN</td>\n",
       "      <td>NaN</td>\n",
       "      <td>NaN</td>\n",
       "      <td>NaN</td>\n",
       "      <td>NaN</td>\n",
       "      <td>NaN</td>\n",
       "      <td>NaN</td>\n",
       "      <td>NaN</td>\n",
       "      <td>https://www.redbus.in/bus-tickets/lucknow-to-v...</td>\n",
       "      <td>Lucknow to Varanasi</td>\n",
       "    </tr>\n",
       "    <tr>\n",
       "      <th>3278</th>\n",
       "      <td>NaN</td>\n",
       "      <td>NaN</td>\n",
       "      <td>NaN</td>\n",
       "      <td>NaN</td>\n",
       "      <td>NaN</td>\n",
       "      <td>NaN</td>\n",
       "      <td>NaN</td>\n",
       "      <td>NaN</td>\n",
       "      <td>https://www.redbus.in/bus-tickets/lucknow-to-v...</td>\n",
       "      <td>Lucknow to Varanasi</td>\n",
       "    </tr>\n",
       "    <tr>\n",
       "      <th>3279</th>\n",
       "      <td>NaN</td>\n",
       "      <td>NaN</td>\n",
       "      <td>NaN</td>\n",
       "      <td>NaN</td>\n",
       "      <td>NaN</td>\n",
       "      <td>NaN</td>\n",
       "      <td>NaN</td>\n",
       "      <td>NaN</td>\n",
       "      <td>https://www.redbus.in/bus-tickets/lucknow-to-v...</td>\n",
       "      <td>Lucknow to Varanasi</td>\n",
       "    </tr>\n",
       "    <tr>\n",
       "      <th>3280</th>\n",
       "      <td>NaN</td>\n",
       "      <td>NaN</td>\n",
       "      <td>NaN</td>\n",
       "      <td>NaN</td>\n",
       "      <td>NaN</td>\n",
       "      <td>NaN</td>\n",
       "      <td>NaN</td>\n",
       "      <td>NaN</td>\n",
       "      <td>https://www.redbus.in/bus-tickets/lucknow-to-v...</td>\n",
       "      <td>Lucknow to Varanasi</td>\n",
       "    </tr>\n",
       "  </tbody>\n",
       "</table>\n",
       "<p>3281 rows × 10 columns</p>\n",
       "</div>"
      ],
      "text/plain": [
       "                 Bus_name                       Bus_type Start_time End_time  \\\n",
       "0             MMK Travels  VE A/C Seater / Sleeper (2+1)      21:30    06:00   \n",
       "1             P K Travels              A/C Sleeper (2+1)      20:00    06:00   \n",
       "2                SAAM BUS           VE A/C Sleeper (2+1)      20:30    06:15   \n",
       "3        AdSuraj Holidays           VE A/C Sleeper (2+1)      22:00    07:15   \n",
       "4     Silver Line Travels     NON A/C Semi Sleeper (2+2)      20:30    05:45   \n",
       "...                   ...                            ...        ...      ...   \n",
       "3276                  NaN                            NaN        NaN      NaN   \n",
       "3277                  NaN                            NaN        NaN      NaN   \n",
       "3278                  NaN                            NaN        NaN      NaN   \n",
       "3279                  NaN                            NaN        NaN      NaN   \n",
       "3280                  NaN                            NaN        NaN      NaN   \n",
       "\n",
       "     Total_duration    Price     Seats_Available   Ratings  \\\n",
       "0           08h 30m  INR 700   5 Seats available  4.5\\n542   \n",
       "1           10h 00m  INR 950  15 Seats available  4.3\\n211   \n",
       "2           09h 45m  INR 800   5 Seats available  4.4\\n101   \n",
       "3           09h 15m  INR 950   6 Seats available  4.1\\n258   \n",
       "4           09h 15m  INR 599  18 Seats available  4.2\\n280   \n",
       "...             ...      ...                 ...       ...   \n",
       "3276            NaN      NaN                 NaN       NaN   \n",
       "3277            NaN      NaN                 NaN       NaN   \n",
       "3278            NaN      NaN                 NaN       NaN   \n",
       "3279            NaN      NaN                 NaN       NaN   \n",
       "3280            NaN      NaN                 NaN       NaN   \n",
       "\n",
       "                                             Route_link  \\\n",
       "0     https://www.redbus.in/bus-tickets/kozhikode-to...   \n",
       "1     https://www.redbus.in/bus-tickets/kozhikode-to...   \n",
       "2     https://www.redbus.in/bus-tickets/kozhikode-to...   \n",
       "3     https://www.redbus.in/bus-tickets/kozhikode-to...   \n",
       "4     https://www.redbus.in/bus-tickets/kozhikode-to...   \n",
       "...                                                 ...   \n",
       "3276  https://www.redbus.in/bus-tickets/lucknow-to-v...   \n",
       "3277  https://www.redbus.in/bus-tickets/lucknow-to-v...   \n",
       "3278  https://www.redbus.in/bus-tickets/lucknow-to-v...   \n",
       "3279  https://www.redbus.in/bus-tickets/lucknow-to-v...   \n",
       "3280  https://www.redbus.in/bus-tickets/lucknow-to-v...   \n",
       "\n",
       "                  Route_name  \n",
       "0     Kozhikode to Bangalore  \n",
       "1     Kozhikode to Bangalore  \n",
       "2     Kozhikode to Bangalore  \n",
       "3     Kozhikode to Bangalore  \n",
       "4     Kozhikode to Bangalore  \n",
       "...                      ...  \n",
       "3276     Lucknow to Varanasi  \n",
       "3277     Lucknow to Varanasi  \n",
       "3278     Lucknow to Varanasi  \n",
       "3279     Lucknow to Varanasi  \n",
       "3280     Lucknow to Varanasi  \n",
       "\n",
       "[3281 rows x 10 columns]"
      ]
     },
     "execution_count": 10,
     "metadata": {},
     "output_type": "execute_result"
    }
   ],
   "source": [
    "# csv to dataframe\n",
    "df_Kerala_buses=pd.read_csv(\"df_Kerala_buses.csv\")\n",
    "df_Aandhra_buses=pd.read_csv(\"df_Aandhra_buses.csv\")\n",
    "df_Telungana_buses=pd.read_csv(\"df_Telungana_buses.csv\")\n",
    "df_Goa_buses=pd.read_csv(\"df_Goa_buses.csv\")\n",
    "df_Rajastan_buses=pd.read_csv(\"df_Rajastan_buses.csv\")\n",
    "df_South_Bengal_buses=pd.read_csv(\"df_South_Bengal_buses.csv\")\n",
    "df_Haryana_buses=pd.read_csv(\"df_Haryana_buses.csv\")\n",
    "df_Assam_buses=pd.read_csv(\"df_Assam_buses.csv\")\n",
    "df_Uttra_pradesh_buses=pd.read_csv(\"df_Uttra_pradesh_buses.csv\")\n",
    "df_West_bengal_buses=pd.read_csv(\"df_West_bengal_buses.csv\")\n",
    "\n",
    "Final_df=pd.concat([df_Kerala_buses,df_Aandhra_buses,df_Telungana_buses,df_Goa_buses,df_Rajastan_buses,df_South_Bengal_buses,\n",
    "                    df_Haryana_buses,df_Assam_buses,df_Uttra_pradesh_buses,df_West_bengal_buses],ignore_index=True)\n",
    "Final_df"
   ]
  },
  {
   "cell_type": "markdown",
   "metadata": {},
   "source": [
    "# **Data Cleaning**"
   ]
  },
  {
   "cell_type": "code",
   "execution_count": 11,
   "metadata": {},
   "outputs": [
    {
     "name": "stdout",
     "output_type": "stream",
     "text": [
      "<class 'pandas.core.frame.DataFrame'>\n",
      "RangeIndex: 3281 entries, 0 to 3280\n",
      "Data columns (total 10 columns):\n",
      " #   Column           Non-Null Count  Dtype \n",
      "---  ------           --------------  ----- \n",
      " 0   Bus_name         2951 non-null   object\n",
      " 1   Bus_type         2938 non-null   object\n",
      " 2   Start_time       2951 non-null   object\n",
      " 3   End_time         2951 non-null   object\n",
      " 4   Total_duration   2951 non-null   object\n",
      " 5   Price            2951 non-null   object\n",
      " 6   Seats_Available  2950 non-null   object\n",
      " 7   Ratings          2951 non-null   object\n",
      " 8   Route_link       3281 non-null   object\n",
      " 9   Route_name       3281 non-null   object\n",
      "dtypes: object(10)\n",
      "memory usage: 256.5+ KB\n"
     ]
    }
   ],
   "source": [
    "# data about the data\n",
    "Final_df.info()"
   ]
  },
  {
   "cell_type": "code",
   "execution_count": 12,
   "metadata": {},
   "outputs": [
    {
     "data": {
      "text/plain": [
       "0       700.0\n",
       "1       950.0\n",
       "2       800.0\n",
       "3       950.0\n",
       "4       599.0\n",
       "        ...  \n",
       "3276      0.0\n",
       "3277      0.0\n",
       "3278      0.0\n",
       "3279      0.0\n",
       "3280      0.0\n",
       "Name: Price, Length: 3281, dtype: float64"
      ]
     },
     "execution_count": 12,
     "metadata": {},
     "output_type": "execute_result"
    }
   ],
   "source": [
    "#convert prices to numeric\n",
    "Final_df[\"Price\"]=Final_df[\"Price\"].str.replace(\"INR\",\"\")\n",
    "Final_df[\"Price\"]=Final_df[\"Price\"].astype(float)\n",
    "Final_df[\"Price\"].fillna(0) "
   ]
  },
  {
   "cell_type": "code",
   "execution_count": 13,
   "metadata": {},
   "outputs": [
    {
     "name": "stderr",
     "output_type": "stream",
     "text": [
      "C:\\Users\\Surenthiran\\AppData\\Local\\Temp\\ipykernel_31236\\709375803.py:6: FutureWarning: A value is trying to be set on a copy of a DataFrame or Series through chained assignment using an inplace method.\n",
      "The behavior will change in pandas 3.0. This inplace method will never work because the intermediate object on which we are setting values always behaves as a copy.\n",
      "\n",
      "For example, when doing 'df[col].method(value, inplace=True)', try using 'df.method({col: value}, inplace=True)' or df[col] = df[col].method(value) instead, to perform the operation inplace on the original object.\n",
      "\n",
      "\n",
      "  Final_df[\"Ratings\"].fillna(0,inplace=True)\n"
     ]
    }
   ],
   "source": [
    "#convert Ratings to numeric\n",
    "Final_df[\"Ratings\"]=Final_df[\"Ratings\"].str.replace(\"New\",\"\")\n",
    "Final_df[\"Ratings\"]=Final_df[\"Ratings\"].str.strip()\n",
    "Final_df[\"Ratings\"]=Final_df[\"Ratings\"].str.split().str[0]\n",
    "Final_df[\"Ratings\"] = pd.to_numeric(Final_df[\"Ratings\"], errors='coerce')\n",
    "Final_df[\"Ratings\"].fillna(0,inplace=True) "
   ]
  },
  {
   "cell_type": "code",
   "execution_count": 14,
   "metadata": {},
   "outputs": [
    {
     "name": "stdout",
     "output_type": "stream",
     "text": [
      "<class 'pandas.core.frame.DataFrame'>\n",
      "RangeIndex: 3281 entries, 0 to 3280\n",
      "Data columns (total 10 columns):\n",
      " #   Column           Non-Null Count  Dtype  \n",
      "---  ------           --------------  -----  \n",
      " 0   Bus_name         2951 non-null   object \n",
      " 1   Bus_type         2938 non-null   object \n",
      " 2   Start_time       2951 non-null   object \n",
      " 3   End_time         2951 non-null   object \n",
      " 4   Total_duration   2951 non-null   object \n",
      " 5   Price            2951 non-null   float64\n",
      " 6   Seats_Available  2950 non-null   object \n",
      " 7   Ratings          3281 non-null   float64\n",
      " 8   Route_link       3281 non-null   object \n",
      " 9   Route_name       3281 non-null   object \n",
      "dtypes: float64(2), object(8)\n",
      "memory usage: 256.5+ KB\n"
     ]
    }
   ],
   "source": [
    "# info after the data type change\n",
    "Final_df.info()"
   ]
  },
  {
   "cell_type": "code",
   "execution_count": 15,
   "metadata": {},
   "outputs": [],
   "source": [
    "Final_df = Final_df[Final_df[\"Price\"] <= 7000]"
   ]
  },
  {
   "cell_type": "code",
   "execution_count": 16,
   "metadata": {},
   "outputs": [],
   "source": [
    "# replacing the nan value\n",
    "Final_df = Final_df.replace({np.nan: None})"
   ]
  },
  {
   "cell_type": "code",
   "execution_count": 17,
   "metadata": {},
   "outputs": [],
   "source": [
    "# change dataframe to csv\n",
    "path=r\"E:/Redbus_Project/Final_bus_details.csv\"\n",
    "Final_df.to_csv(path,index=False)"
   ]
  },
  {
   "cell_type": "markdown",
   "metadata": {},
   "source": [
    "# **Create MySQL Data Base**"
   ]
  },
  {
   "cell_type": "code",
   "execution_count": 1,
   "metadata": {},
   "outputs": [
    {
     "name": "stdout",
     "output_type": "stream",
     "text": [
      "Requirement already satisfied: mysql-connector-python in c:\\users\\surenthiran\\appdata\\local\\programs\\python\\python312\\lib\\site-packages (9.0.0)\n"
     ]
    },
    {
     "name": "stderr",
     "output_type": "stream",
     "text": [
      "\n",
      "[notice] A new release of pip is available: 24.0 -> 24.2\n",
      "[notice] To update, run: python.exe -m pip install --upgrade pip\n"
     ]
    }
   ],
   "source": [
    "! pip install mysql-connector-python"
   ]
  },
  {
   "cell_type": "code",
   "execution_count": 3,
   "metadata": {},
   "outputs": [
    {
     "name": "stdout",
     "output_type": "stream",
     "text": [
      "<mysql.connector.connection_cext.CMySQLConnection object at 0x0000028B1BB32240>\n"
     ]
    }
   ],
   "source": [
    "import mysql.connector\n",
    "mydb = mysql.connector.connect(\n",
    " host=\"localhost\",\n",
    " user=\"root\",\n",
    " password=\"\",\n",
    "\n",
    "\n",
    ")\n",
    "\n",
    "\n",
    "print(mydb)\n",
    "mycursor = mydb.cursor(buffered=True)"
   ]
  },
  {
   "cell_type": "code",
   "execution_count": 4,
   "metadata": {},
   "outputs": [],
   "source": [
    "import mysql.connector\n",
    "\n",
    "connection = mysql.connector.connect(\n",
    "  host = \"gateway01.ap-southeast-1.prod.aws.tidbcloud.com\",\n",
    "  port = 4000,\n",
    "  user = \"27BWX9vSyueH94y.root\",\n",
    "  password = \"q1GlXoLTU7A9BpHQ\",\n",
    " \n",
    ")"
   ]
  },
  {
   "cell_type": "code",
   "execution_count": 6,
   "metadata": {},
   "outputs": [],
   "source": [
    "mycursor.execute(\"create database red_bus\")"
   ]
  },
  {
   "cell_type": "code",
   "execution_count": 7,
   "metadata": {},
   "outputs": [
    {
     "name": "stdout",
     "output_type": "stream",
     "text": [
      "Table Created successfully\n"
     ]
    }
   ],
   "source": [
    "# Table Creation\n",
    "# mycursor.execute(\"CREATE TABLE Bus_Details(name VARCHAR(50),id VARCHAR(10),age INT(3))\") \n",
    "mycursor.execute(\"CREATE TABLE red_bus.bus_details(\\\n",
    "                  ID INT AUTO_INCREMENT PRIMARY KEY, \\\n",
    "                  Bus_name VARCHAR(255) NOT NULL, \\\n",
    "                  Bus_type VARCHAR(255) NOT NULL, \\\n",
    "                  Start_time VARCHAR(255) NOT NULL, \\\n",
    "                  End_time VARCHAR(255) NOT NULL, \\\n",
    "                  Total_duration VARCHAR(255) NOT NULL, \\\n",
    "                  Price FLOAT NULL, \\\n",
    "                  Seats_Available VARCHAR(255) NOT NULL, \\\n",
    "                  Ratings Float NULL, \\\n",
    "                  Route_link VARCHAR(255) NULL, \\\n",
    "                  Route_name VARCHAR(255) NULL \\\n",
    "                  )\")\n",
    "print(\"Table Created successfully\")"
   ]
  },
  {
   "cell_type": "code",
   "execution_count": 18,
   "metadata": {},
   "outputs": [
    {
     "name": "stdout",
     "output_type": "stream",
     "text": [
      "Values inserted successfully\n"
     ]
    }
   ],
   "source": [
    "# SQL query to insert data into bus_details table\n",
    "insert_query = '''INSERT INTO red_bus.bus_details(\n",
    "                    Bus_name,\n",
    "                    Bus_type,\n",
    "                    Start_time,\n",
    "                    End_time,\n",
    "                    Total_duration,\n",
    "                    Price,\n",
    "                    Seats_Available,\n",
    "                    Ratings,\n",
    "                    Route_link,\n",
    "                    Route_name)\n",
    "                  VALUES(%s, %s, %s, %s, %s, %s, %s, %s, %s, %s)'''\n",
    "data = Final_df.values.tolist()\n",
    "\n",
    "mycursor.executemany(insert_query, data)\n",
    "\n",
    "mydb.commit()\n",
    "\n",
    "print(\"Values inserted successfully\")"
   ]
  }
 ],
 "metadata": {
  "kernelspec": {
   "display_name": "Python 3",
   "language": "python",
   "name": "python3"
  },
  "language_info": {
   "codemirror_mode": {
    "name": "ipython",
    "version": 3
   },
   "file_extension": ".py",
   "mimetype": "text/x-python",
   "name": "python",
   "nbconvert_exporter": "python",
   "pygments_lexer": "ipython3",
   "version": "3.12.4"
  }
 },
 "nbformat": 4,
 "nbformat_minor": 2
}
