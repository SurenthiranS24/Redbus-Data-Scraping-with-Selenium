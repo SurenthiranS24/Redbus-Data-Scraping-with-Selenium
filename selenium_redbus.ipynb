{
 "cells": [
  {
   "cell_type": "code",
   "execution_count": 12,
   "metadata": {},
   "outputs": [
    {
     "name": "stdout",
     "output_type": "stream",
     "text": [
      "Requirement already satisfied: selenium in c:\\users\\surenthiran\\appdata\\local\\programs\\python\\python312\\lib\\site-packages (4.23.1)\n",
      "Requirement already satisfied: urllib3<3,>=1.26 in c:\\users\\surenthiran\\appdata\\local\\programs\\python\\python312\\lib\\site-packages (from urllib3[socks]<3,>=1.26->selenium) (2.2.2)\n",
      "Requirement already satisfied: trio~=0.17 in c:\\users\\surenthiran\\appdata\\local\\programs\\python\\python312\\lib\\site-packages (from selenium) (0.26.1)\n",
      "Requirement already satisfied: trio-websocket~=0.9 in c:\\users\\surenthiran\\appdata\\local\\programs\\python\\python312\\lib\\site-packages (from selenium) (0.11.1)\n",
      "Requirement already satisfied: certifi>=2021.10.8 in c:\\users\\surenthiran\\appdata\\local\\programs\\python\\python312\\lib\\site-packages (from selenium) (2024.7.4)\n",
      "Requirement already satisfied: typing_extensions~=4.9 in c:\\users\\surenthiran\\appdata\\local\\programs\\python\\python312\\lib\\site-packages (from selenium) (4.12.2)\n",
      "Requirement already satisfied: websocket-client~=1.8 in c:\\users\\surenthiran\\appdata\\local\\programs\\python\\python312\\lib\\site-packages (from selenium) (1.8.0)\n",
      "Requirement already satisfied: attrs>=23.2.0 in c:\\users\\surenthiran\\appdata\\local\\programs\\python\\python312\\lib\\site-packages (from trio~=0.17->selenium) (24.2.0)\n",
      "Requirement already satisfied: sortedcontainers in c:\\users\\surenthiran\\appdata\\local\\programs\\python\\python312\\lib\\site-packages (from trio~=0.17->selenium) (2.4.0)\n",
      "Requirement already satisfied: idna in c:\\users\\surenthiran\\appdata\\local\\programs\\python\\python312\\lib\\site-packages (from trio~=0.17->selenium) (3.7)\n",
      "Requirement already satisfied: outcome in c:\\users\\surenthiran\\appdata\\local\\programs\\python\\python312\\lib\\site-packages (from trio~=0.17->selenium) (1.3.0.post0)\n",
      "Requirement already satisfied: sniffio>=1.3.0 in c:\\users\\surenthiran\\appdata\\local\\programs\\python\\python312\\lib\\site-packages (from trio~=0.17->selenium) (1.3.1)\n",
      "Requirement already satisfied: cffi>=1.14 in c:\\users\\surenthiran\\appdata\\local\\programs\\python\\python312\\lib\\site-packages (from trio~=0.17->selenium) (1.17.0)\n",
      "Requirement already satisfied: wsproto>=0.14 in c:\\users\\surenthiran\\appdata\\local\\programs\\python\\python312\\lib\\site-packages (from trio-websocket~=0.9->selenium) (1.2.0)\n",
      "Requirement already satisfied: pysocks!=1.5.7,<2.0,>=1.5.6 in c:\\users\\surenthiran\\appdata\\local\\programs\\python\\python312\\lib\\site-packages (from urllib3[socks]<3,>=1.26->selenium) (1.7.1)\n",
      "Requirement already satisfied: pycparser in c:\\users\\surenthiran\\appdata\\local\\programs\\python\\python312\\lib\\site-packages (from cffi>=1.14->trio~=0.17->selenium) (2.22)\n",
      "Requirement already satisfied: h11<1,>=0.9.0 in c:\\users\\surenthiran\\appdata\\local\\programs\\python\\python312\\lib\\site-packages (from wsproto>=0.14->trio-websocket~=0.9->selenium) (0.14.0)\n"
     ]
    },
    {
     "name": "stderr",
     "output_type": "stream",
     "text": [
      "\n",
      "[notice] A new release of pip is available: 24.0 -> 24.2\n",
      "[notice] To update, run: python.exe -m pip install --upgrade pip\n"
     ]
    },
    {
     "name": "stdout",
     "output_type": "stream",
     "text": [
      "Requirement already satisfied: pandas in c:\\users\\surenthiran\\appdata\\local\\programs\\python\\python312\\lib\\site-packages (2.2.2)\n",
      "Requirement already satisfied: numpy>=1.26.0 in c:\\users\\surenthiran\\appdata\\local\\programs\\python\\python312\\lib\\site-packages (from pandas) (2.0.1)\n",
      "Requirement already satisfied: python-dateutil>=2.8.2 in c:\\users\\surenthiran\\appdata\\roaming\\python\\python312\\site-packages (from pandas) (2.9.0.post0)\n",
      "Requirement already satisfied: pytz>=2020.1 in c:\\users\\surenthiran\\appdata\\local\\programs\\python\\python312\\lib\\site-packages (from pandas) (2024.1)\n",
      "Requirement already satisfied: tzdata>=2022.7 in c:\\users\\surenthiran\\appdata\\local\\programs\\python\\python312\\lib\\site-packages (from pandas) (2024.1)\n",
      "Requirement already satisfied: six>=1.5 in c:\\users\\surenthiran\\appdata\\roaming\\python\\python312\\site-packages (from python-dateutil>=2.8.2->pandas) (1.16.0)\n"
     ]
    },
    {
     "name": "stderr",
     "output_type": "stream",
     "text": [
      "\n",
      "[notice] A new release of pip is available: 24.0 -> 24.2\n",
      "[notice] To update, run: python.exe -m pip install --upgrade pip\n"
     ]
    }
   ],
   "source": [
    "! pip install selenium\n",
    "! pip install pandas"
   ]
  },
  {
   "cell_type": "code",
   "execution_count": 1,
   "metadata": {},
   "outputs": [],
   "source": [
    "#importing libraries\n",
    "from selenium import webdriver\n",
    "from selenium.webdriver import ActionChains\n",
    "from selenium.webdriver.common.by import By\n",
    "from selenium.webdriver.common.keys import Keys\n",
    "from selenium.common.exceptions import TimeoutException, NoSuchElementException\n",
    "import time\n",
    "from selenium.webdriver.support.ui import WebDriverWait\n",
    "from selenium.webdriver.support import expected_conditions as EC\n",
    "import pandas as pd"
   ]
  },
  {
   "cell_type": "code",
   "execution_count": 14,
   "metadata": {},
   "outputs": [],
   "source": [
    "#10 states links\n",
    "state_links=[\"https://www.redbus.in/online-booking/ksrtc-kerala/?utm_source=rtchometile\",\n",
    "             \"https://www.redbus.in/online-booking/apsrtc/?utm_source=rtchometile\",\n",
    "             \"https://www.redbus.in/online-booking/tsrtc/?utm_source=rtchometile\",\n",
    "             \"https://www.redbus.in/online-booking/ktcl/?utm_source=rtchometile\",\n",
    "             \"https://www.redbus.in/online-booking/rsrtc/?utm_source=rtchometile\",\n",
    "             \"https://www.redbus.in/online-booking/south-bengal-state-transport-corporation-sbstc/?utm_source=rtchometile\",\n",
    "             \"https://www.redbus.in/online-booking/hrtc/?utm_source=rtchometile\",\n",
    "             \"https://www.redbus.in/online-booking/astc/?utm_source=rtchometile\",\n",
    "             \"https://www.redbus.in/online-booking/uttar-pradesh-state-road-transport-corporation-upsrtc/?utm_source=rtchometile\",\n",
    "             \"https://www.redbus.in/online-booking/wbtc-ctc/?utm_source=rtchometile\"\n",
    "]"
   ]
  },
  {
   "cell_type": "markdown",
   "metadata": {},
   "source": [
    "# **Kerala Routs**"
   ]
  },
  {
   "cell_type": "code",
   "execution_count": 8,
   "metadata": {},
   "outputs": [],
   "source": [
    "#open the browser\n",
    "\n",
    "driver=webdriver.Chrome()\n",
    "\n",
    "#load the webpage\n",
    "\n",
    "driver.get(\"https://www.redbus.in/online-booking/ksrtc-kerala/?utm_source=rtchometile\")\n",
    "\n",
    "time.sleep(3)\n",
    "\n",
    "driver.maximize_window()"
   ]
  },
  {
   "cell_type": "code",
   "execution_count": 9,
   "metadata": {},
   "outputs": [
    {
     "name": "stdout",
     "output_type": "stream",
     "text": [
      "No more pages to paginate at step 2\n"
     ]
    }
   ],
   "source": [
    "#retrive  bus links and route\n",
    "wait = WebDriverWait(driver, 20)\n",
    "def Kerala_link_route(path):   \n",
    "    LINKS_KERALA=[]\n",
    "    ROUTE_KERALA=[]\n",
    "    # retrive the route links \n",
    "    for i in range(1,3):\n",
    "        paths=driver.find_elements(By.XPATH,path)\n",
    "        \n",
    "        for links in paths:\n",
    "            d = links.get_attribute(\"href\")\n",
    "            LINKS_KERALA.append(d)\n",
    "            \n",
    "        # retrive names of the routes\n",
    "        for route in paths:\n",
    "            ROUTE_KERALA.append(route.text)\n",
    "            \n",
    "        try:\n",
    "            # Wait for the pagination element to be present\n",
    "            pagination = wait.until(EC.presence_of_element_located((By.XPATH, '//*[@class=\"DC_117_paginationTable\"]')))\n",
    "            next_button = pagination.find_element(By.XPATH, f'//div[@class=\"DC_117_pageTabs \" and text()={i+1}]')\n",
    "            time.sleep(3)\n",
    "            actions = ActionChains(driver)\n",
    "            actions.send_keys(Keys.PAGE_DOWN).perform()\n",
    "            \n",
    "        except NoSuchElementException:\n",
    "            print(f\"No more pages to paginate at step {i}\")\n",
    "            break\n",
    "            \n",
    "    return LINKS_KERALA,ROUTE_KERALA\n",
    "\n",
    "LINKS_KERALA,ROUTE_KERALA=Kerala_link_route(\"//a[@class='route']\")"
   ]
  },
  {
   "cell_type": "code",
   "execution_count": 10,
   "metadata": {},
   "outputs": [],
   "source": [
    "df_kerala=pd.DataFrame({\"Route_name\":ROUTE_KERALA,\"Route_link\":LINKS_KERALA})"
   ]
  },
  {
   "cell_type": "code",
   "execution_count": 31,
   "metadata": {},
   "outputs": [],
   "source": [
    "# change dataframe to csv\n",
    "path=r\"E:/Redbus_Project/df_kerala.csv\"\n",
    "df_kerala.to_csv(path,index=False)"
   ]
  },
  {
   "cell_type": "markdown",
   "metadata": {},
   "source": [
    "# **Aandhra Routs**"
   ]
  },
  {
   "cell_type": "code",
   "execution_count": 11,
   "metadata": {},
   "outputs": [],
   "source": [
    "#open the browser\n",
    "\n",
    "driver=webdriver.Chrome()\n",
    "\n",
    "#load the webpage\n",
    "\n",
    "driver.get(\"https://www.redbus.in/online-booking/apsrtc/?utm_source=rtchometile\")\n",
    "\n",
    "time.sleep(3)\n",
    "\n",
    "driver.maximize_window()"
   ]
  },
  {
   "cell_type": "code",
   "execution_count": 12,
   "metadata": {},
   "outputs": [
    {
     "name": "stdout",
     "output_type": "stream",
     "text": [
      "No more pages to paginate at step 5\n"
     ]
    }
   ],
   "source": [
    "#retrive  bus links and route\n",
    "wait = WebDriverWait(driver, 20)\n",
    "def Aandhra_link_route(path):   \n",
    "    LINKS_Aandhra=[]\n",
    "    ROUTE_Aandhra=[]\n",
    "    # retrive the route links \n",
    "    for i in range(1,6):\n",
    "        paths=driver.find_elements(By.XPATH,path)\n",
    "        \n",
    "        for links in paths:\n",
    "            d = links.get_attribute(\"href\")\n",
    "            LINKS_Aandhra.append(d)\n",
    "            \n",
    "        # retrive names of the routes\n",
    "        for route in paths:\n",
    "            ROUTE_Aandhra.append(route.text)\n",
    "            \n",
    "        try:\n",
    "            # Wait for the pagination element to be present\n",
    "            pagination = wait.until(EC.presence_of_element_located((By.XPATH, '//*[@class=\"DC_117_paginationTable\"]')))\n",
    "            next_button = pagination.find_element(By.XPATH, f'//div[@class=\"DC_117_pageTabs \" and text()={i+1}]')\n",
    "            time.sleep(3)\n",
    "            actions = ActionChains(driver)\n",
    "            actions.send_keys(Keys.PAGE_DOWN).perform()\n",
    "            \n",
    "        except NoSuchElementException:\n",
    "            print(f\"No more pages to paginate at step {i}\")\n",
    "            break\n",
    "            \n",
    "    return LINKS_Aandhra,ROUTE_Aandhra\n",
    "LINKS_Aandhra,ROUTE_Aandhra=Aandhra_link_route(\"//a[@class='route']\")"
   ]
  },
  {
   "cell_type": "code",
   "execution_count": 13,
   "metadata": {},
   "outputs": [],
   "source": [
    "df_Aandhra=pd.DataFrame({\"Route_name\":ROUTE_Aandhra,\"Route_link\":LINKS_Aandhra})"
   ]
  },
  {
   "cell_type": "code",
   "execution_count": 40,
   "metadata": {},
   "outputs": [],
   "source": [
    "# change dataframe to csv\n",
    "path=r\"E:/Redbus_Project/df_Aandhra.csv\"\n",
    "df_Aandhra.to_csv(path,index=False)"
   ]
  },
  {
   "cell_type": "markdown",
   "metadata": {},
   "source": [
    "# **Telungana Routs**"
   ]
  },
  {
   "cell_type": "code",
   "execution_count": 14,
   "metadata": {},
   "outputs": [],
   "source": [
    "#open the browser\n",
    "\n",
    "driver=webdriver.Chrome()\n",
    "\n",
    "#load the webpage\n",
    "\n",
    "driver.get(\"https://www.redbus.in/online-booking/tsrtc/?utm_source=rtchometile\")\n",
    "\n",
    "time.sleep(3)\n",
    "\n",
    "driver.maximize_window()"
   ]
  },
  {
   "cell_type": "code",
   "execution_count": 15,
   "metadata": {},
   "outputs": [
    {
     "name": "stdout",
     "output_type": "stream",
     "text": [
      "No more pages to paginate at step 3\n"
     ]
    }
   ],
   "source": [
    "#retrive  bus links and route\n",
    "wait = WebDriverWait(driver, 20)\n",
    "def Telungana_link_route(path):  \n",
    "    LINKS_Telungana=[]\n",
    "    ROUTE_Telungana=[]\n",
    "    # retrive the route links \n",
    "    for i in range(1,6):\n",
    "        paths=driver.find_elements(By.XPATH,path)\n",
    "        for links in paths:\n",
    "            d = links.get_attribute(\"href\")\n",
    "            LINKS_Telungana.append(d)\n",
    "            \n",
    "        # retrive names of the routes\n",
    "        for route in paths:\n",
    "            ROUTE_Telungana.append(route.text)\n",
    "            \n",
    "        try:\n",
    "            # Wait for the pagination element to be present\n",
    "            pagination = wait.until(EC.presence_of_element_located((By.XPATH, '//*[@class=\"DC_117_paginationTable\"]')))\n",
    "            next_button = pagination.find_element(By.XPATH, f'//div[@class=\"DC_117_pageTabs \" and text()={i+1}]')\n",
    "            time.sleep(3)\n",
    "            actions = ActionChains(driver)\n",
    "            actions.send_keys(Keys.PAGE_DOWN).perform()\n",
    "            \n",
    "            \n",
    "        except NoSuchElementException:\n",
    "            print(f\"No more pages to paginate at step {i}\")\n",
    "            break\n",
    "            \n",
    "    return LINKS_Telungana,ROUTE_Telungana\n",
    "LINKS_Telungana,ROUTE_Telungana=Telungana_link_route(\"//a[@class='route']\")"
   ]
  },
  {
   "cell_type": "code",
   "execution_count": 16,
   "metadata": {},
   "outputs": [],
   "source": [
    "df_Telungana=pd.DataFrame({\"Route_name\":ROUTE_Telungana,\"Route_link\":LINKS_Telungana})"
   ]
  },
  {
   "cell_type": "code",
   "execution_count": 72,
   "metadata": {},
   "outputs": [],
   "source": [
    "# change dataframe to csv\n",
    "path=r\"E:/Redbus_Project/df_Telungana.csv\"\n",
    "df_Telungana.to_csv(path,index=False)"
   ]
  },
  {
   "cell_type": "markdown",
   "metadata": {},
   "source": [
    "# **Goa Routs**"
   ]
  },
  {
   "cell_type": "code",
   "execution_count": 17,
   "metadata": {},
   "outputs": [],
   "source": [
    "driver=webdriver.Chrome()\n",
    "driver.get(\"https://www.redbus.in/online-booking/ktcl/?utm_source=rtchometile\")\n",
    "time.sleep(3)\n",
    "driver.maximize_window()"
   ]
  },
  {
   "cell_type": "code",
   "execution_count": 18,
   "metadata": {},
   "outputs": [
    {
     "name": "stdout",
     "output_type": "stream",
     "text": [
      "No more pages to paginate at step 4\n"
     ]
    }
   ],
   "source": [
    "#retrive  bus links and route\n",
    "wait = WebDriverWait(driver, 20)\n",
    "def Goa_link_route(path):  \n",
    "    LINKS_Goa=[]\n",
    "    ROUTE_Goa=[]\n",
    "    # retrive the route links \n",
    "    for i in range(1,5):\n",
    "        paths=driver.find_elements(By.XPATH,path)\n",
    "        for links in paths:\n",
    "            d = links.get_attribute(\"href\")\n",
    "            LINKS_Goa.append(d)\n",
    "            \n",
    "        # retrive names of the routes\n",
    "        for route in paths:\n",
    "            ROUTE_Goa.append(route.text)\n",
    "            \n",
    "        try:\n",
    "            # Wait for the pagination element to be present\n",
    "            pagination = wait.until(EC.presence_of_element_located((By.XPATH, '//*[@class=\"DC_117_paginationTable\"]')))\n",
    "            next_button = pagination.find_element(By.XPATH, f'//div[@class=\"DC_117_pageTabs \" and text()={i+1}]')\n",
    "            time.sleep(3)\n",
    "            actions = ActionChains(driver)\n",
    "            actions.send_keys(Keys.PAGE_DOWN).perform()\n",
    "            \n",
    "            \n",
    "        except NoSuchElementException:\n",
    "            print(f\"No more pages to paginate at step {i}\")\n",
    "            break\n",
    "            \n",
    "    return LINKS_Goa,ROUTE_Goa\n",
    "LINKS_Goa,ROUTE_Goa=Goa_link_route(\"//a[@class='route']\")"
   ]
  },
  {
   "cell_type": "code",
   "execution_count": 25,
   "metadata": {},
   "outputs": [],
   "source": [
    "df_Goa=pd.DataFrame({\"Route_name\":ROUTE_Goa,\"Route_link\":LINKS_Goa})\n",
    "# change dataframe to csv\n",
    "path=r\"E:/Redbus_Project/df_Goa.csv\"\n",
    "df_Goa.to_csv(path,index=False)"
   ]
  },
  {
   "cell_type": "markdown",
   "metadata": {},
   "source": [
    "# **Rajastan Routs**"
   ]
  },
  {
   "cell_type": "code",
   "execution_count": 20,
   "metadata": {},
   "outputs": [],
   "source": [
    "driver=webdriver.Chrome()\n",
    "driver.get(\"https://www.redbus.in/online-booking/rsrtc/?utm_source=rtchometile\")\n",
    "time.sleep(3)\n",
    "driver.maximize_window()"
   ]
  },
  {
   "cell_type": "code",
   "execution_count": 21,
   "metadata": {},
   "outputs": [
    {
     "name": "stdout",
     "output_type": "stream",
     "text": [
      "No more pages to paginate at step 3\n"
     ]
    }
   ],
   "source": [
    "#retrive  bus links and route\n",
    "wait = WebDriverWait(driver, 20)\n",
    "def Rajastan_link_route(path):  \n",
    "    LINKS_Rajastan=[]\n",
    "    ROUTE_Rajastan=[]\n",
    "    # retrive the route links \n",
    "    for i in range(1,4):\n",
    "        paths=driver.find_elements(By.XPATH,path)\n",
    "        for links in paths:\n",
    "            d = links.get_attribute(\"href\")\n",
    "            LINKS_Rajastan.append(d)\n",
    "            \n",
    "        # retrive names of the routes\n",
    "        for route in paths:\n",
    "            ROUTE_Rajastan.append(route.text)\n",
    "            \n",
    "        try:\n",
    "            # Wait for the pagination element to be present\n",
    "            pagination = wait.until(EC.presence_of_element_located((By.XPATH, '//*[@class=\"DC_117_paginationTable\"]')))\n",
    "            next_button = pagination.find_element(By.XPATH, f'//div[@class=\"DC_117_pageTabs \" and text()={i+1}]')\n",
    "            time.sleep(3)\n",
    "            actions = ActionChains(driver)\n",
    "            actions.send_keys(Keys.PAGE_DOWN).perform()\n",
    "            \n",
    "            \n",
    "        except NoSuchElementException:\n",
    "            print(f\"No more pages to paginate at step {i}\")\n",
    "            break\n",
    "            \n",
    "    return LINKS_Rajastan,ROUTE_Rajastan\n",
    "LINKS_Rajastan,ROUTE_Rajastan=Rajastan_link_route(\"//a[@class='route']\")"
   ]
  },
  {
   "cell_type": "code",
   "execution_count": 24,
   "metadata": {},
   "outputs": [],
   "source": [
    "df_Rajastan=pd.DataFrame({\"Route_name\":ROUTE_Rajastan,\"Route_link\":LINKS_Rajastan})\n",
    "# change dataframe to csv\n",
    "path=r\"E:/Redbus_Project/df_Rajastan.csv\"\n",
    "df_Rajastan.to_csv(path,index=False)"
   ]
  },
  {
   "cell_type": "markdown",
   "metadata": {},
   "source": [
    "# **South Bengal Routs**"
   ]
  },
  {
   "cell_type": "code",
   "execution_count": 2,
   "metadata": {},
   "outputs": [],
   "source": [
    "driver=webdriver.Chrome()\n",
    "driver.get(\"https://www.redbus.in/online-booking/south-bengal-state-transport-corporation-sbstc/?utm_source=rtchometile\")\n",
    "time.sleep(3)\n",
    "driver.maximize_window()"
   ]
  },
  {
   "cell_type": "code",
   "execution_count": 3,
   "metadata": {},
   "outputs": [
    {
     "name": "stdout",
     "output_type": "stream",
     "text": [
      "No more pages to paginate at step 5\n"
     ]
    }
   ],
   "source": [
    "#retrive  bus links and route\n",
    "wait = WebDriverWait(driver, 20)\n",
    "def South_Bengal_route(path):  \n",
    "    LINKS_South_Bengal=[]\n",
    "    ROUTE_South_Bengal=[]\n",
    "    # retrive the route links \n",
    "    for i in range(1,6):\n",
    "        paths=driver.find_elements(By.XPATH,path)\n",
    "        for links in paths:\n",
    "            d = links.get_attribute(\"href\")\n",
    "            LINKS_South_Bengal.append(d)\n",
    "            \n",
    "        # retrive names of the routes\n",
    "        for route in paths:\n",
    "            ROUTE_South_Bengal.append(route.text)\n",
    "            \n",
    "        try:\n",
    "            # Wait for the pagination element to be present\n",
    "            pagination = wait.until(EC.presence_of_element_located((By.XPATH, '//*[@class=\"DC_117_paginationTable\"]')))\n",
    "            next_button = pagination.find_element(By.XPATH, f'//div[@class=\"DC_117_pageTabs \" and text()={i+1}]')\n",
    "            time.sleep(3)\n",
    "            actions = ActionChains(driver)\n",
    "            actions.send_keys(Keys.PAGE_DOWN).perform()\n",
    "            \n",
    "            \n",
    "        except NoSuchElementException:\n",
    "            print(f\"No more pages to paginate at step {i}\")\n",
    "            break\n",
    "            \n",
    "    return LINKS_South_Bengal,ROUTE_South_Bengal\n",
    "LINKS_South_Bengal,ROUTE_South_Bengal=South_Bengal_route(\"//a[@class='route']\")"
   ]
  },
  {
   "cell_type": "code",
   "execution_count": 4,
   "metadata": {},
   "outputs": [],
   "source": [
    "df_South_Bengal=pd.DataFrame({\"Route_name\":ROUTE_South_Bengal,\"Route_link\":LINKS_South_Bengal})\n",
    "# change dataframe to csv\n",
    "path=r\"E:/Redbus_Project/df_South_Bengal.csv\"\n",
    "df_South_Bengal.to_csv(path,index=False)"
   ]
  },
  {
   "cell_type": "markdown",
   "metadata": {},
   "source": [
    "# **Haryana Routs**"
   ]
  },
  {
   "cell_type": "code",
   "execution_count": 29,
   "metadata": {},
   "outputs": [],
   "source": [
    "driver=webdriver.Chrome()\n",
    "driver.get(\"https://www.redbus.in/online-booking/hrtc/?utm_source=rtchometile\")\n",
    "time.sleep(3)\n",
    "driver.maximize_window()"
   ]
  },
  {
   "cell_type": "code",
   "execution_count": 30,
   "metadata": {},
   "outputs": [
    {
     "name": "stdout",
     "output_type": "stream",
     "text": [
      "No more pages to paginate at step 5\n"
     ]
    }
   ],
   "source": [
    "#retrive  bus links and route\n",
    "wait = WebDriverWait(driver, 20)\n",
    "def Haryana_route(path):  \n",
    "    LINKS_Haryana=[]\n",
    "    ROUTE_Haryana=[]\n",
    "    # retrive the route links \n",
    "    for i in range(1,6):\n",
    "        paths=driver.find_elements(By.XPATH,path)\n",
    "        for links in paths:\n",
    "            d = links.get_attribute(\"href\")\n",
    "            LINKS_Haryana.append(d)\n",
    "            \n",
    "        # retrive names of the routes\n",
    "        for route in paths:\n",
    "            ROUTE_Haryana.append(route.text)\n",
    "            \n",
    "        try:\n",
    "            # Wait for the pagination element to be present\n",
    "            pagination = wait.until(EC.presence_of_element_located((By.XPATH, '//*[@class=\"DC_117_paginationTable\"]')))\n",
    "            next_button = pagination.find_element(By.XPATH, f'//div[@class=\"DC_117_pageTabs \" and text()={i+1}]')\n",
    "            time.sleep(3)\n",
    "            actions = ActionChains(driver)\n",
    "            actions.send_keys(Keys.PAGE_DOWN).perform()\n",
    "            \n",
    "            \n",
    "        except NoSuchElementException:\n",
    "            print(f\"No more pages to paginate at step {i}\")\n",
    "            break\n",
    "            \n",
    "    return LINKS_Haryana,ROUTE_Haryana\n",
    "LINKS_Haryana,ROUTE_Haryana=Haryana_route(\"//a[@class='route']\")"
   ]
  },
  {
   "cell_type": "code",
   "execution_count": 31,
   "metadata": {},
   "outputs": [],
   "source": [
    "df_Haryana=pd.DataFrame({\"Route_name\":ROUTE_Haryana,\"Route_link\":LINKS_Haryana})\n",
    "# change dataframe to csv\n",
    "path=r\"E:/Redbus_Project/df_Haryana.csv\"\n",
    "df_Haryana.to_csv(path,index=False)"
   ]
  },
  {
   "cell_type": "markdown",
   "metadata": {},
   "source": [
    "# **Assam Routs**"
   ]
  },
  {
   "cell_type": "code",
   "execution_count": 32,
   "metadata": {},
   "outputs": [],
   "source": [
    "driver=webdriver.Chrome()\n",
    "driver.get(\"https://www.redbus.in/online-booking/astc/?utm_source=rtchometile\")\n",
    "time.sleep(3)\n",
    "driver.maximize_window()"
   ]
  },
  {
   "cell_type": "code",
   "execution_count": 33,
   "metadata": {},
   "outputs": [
    {
     "name": "stdout",
     "output_type": "stream",
     "text": [
      "No more pages to paginate at step 5\n"
     ]
    }
   ],
   "source": [
    "#retrive  bus links and route\n",
    "wait = WebDriverWait(driver, 20)\n",
    "def Assam_route(path):  \n",
    "    LINKS_Assam=[]\n",
    "    ROUTE_Assam=[]\n",
    "    # retrive the route links \n",
    "    for i in range(1,6):\n",
    "        paths=driver.find_elements(By.XPATH,path)\n",
    "        for links in paths:\n",
    "            d = links.get_attribute(\"href\")\n",
    "            LINKS_Assam.append(d)\n",
    "            \n",
    "        # retrive names of the routes\n",
    "        for route in paths:\n",
    "            ROUTE_Assam.append(route.text)\n",
    "            \n",
    "        try:\n",
    "            # Wait for the pagination element to be present\n",
    "            pagination = wait.until(EC.presence_of_element_located((By.XPATH, '//*[@class=\"DC_117_paginationTable\"]')))\n",
    "            next_button = pagination.find_element(By.XPATH, f'//div[@class=\"DC_117_pageTabs \" and text()={i+1}]')\n",
    "            time.sleep(3)\n",
    "            actions = ActionChains(driver)\n",
    "            actions.send_keys(Keys.PAGE_DOWN).perform()\n",
    "            \n",
    "            \n",
    "        except NoSuchElementException:\n",
    "            print(f\"No more pages to paginate at step {i}\")\n",
    "            break\n",
    "            \n",
    "    return LINKS_Assam,ROUTE_Assam\n",
    "LINKS_Assam,ROUTE_Assam=Assam_route(\"//a[@class='route']\")"
   ]
  },
  {
   "cell_type": "code",
   "execution_count": 34,
   "metadata": {},
   "outputs": [],
   "source": [
    "df_Assam=pd.DataFrame({\"Route_name\":ROUTE_Assam,\"Route_link\":LINKS_Assam})\n",
    "# change dataframe to csv\n",
    "path=r\"E:/Redbus_Project/df_Assam.csv\"\n",
    "df_Assam.to_csv(path,index=False)"
   ]
  },
  {
   "cell_type": "markdown",
   "metadata": {},
   "source": [
    "# **Uttra Pradesh Routs**"
   ]
  },
  {
   "cell_type": "code",
   "execution_count": 35,
   "metadata": {},
   "outputs": [],
   "source": [
    "driver=webdriver.Chrome()\n",
    "driver.get(\"https://www.redbus.in/online-booking/uttar-pradesh-state-road-transport-corporation-upsrtc/?utm_source=rtchometile\")\n",
    "time.sleep(3)\n",
    "driver.maximize_window()"
   ]
  },
  {
   "cell_type": "code",
   "execution_count": 36,
   "metadata": {},
   "outputs": [
    {
     "name": "stdout",
     "output_type": "stream",
     "text": [
      "No more pages to paginate at step 5\n"
     ]
    }
   ],
   "source": [
    "#retrive  bus links and route\n",
    "wait = WebDriverWait(driver, 20)\n",
    "def Uttra_pradesh_route(path):  \n",
    "    LINKS_Uttra_pradesh=[]\n",
    "    ROUTE_Uttra_pradesh=[]\n",
    "    # retrive the route links \n",
    "    for i in range(1,6):\n",
    "        paths=driver.find_elements(By.XPATH,path)\n",
    "        for links in paths:\n",
    "            d = links.get_attribute(\"href\")\n",
    "            LINKS_Uttra_pradesh.append(d)\n",
    "            \n",
    "        # retrive names of the routes\n",
    "        for route in paths:\n",
    "            ROUTE_Uttra_pradesh.append(route.text)\n",
    "            \n",
    "        try:\n",
    "            # Wait for the pagination element to be present\n",
    "            pagination = wait.until(EC.presence_of_element_located((By.XPATH, '//*[@class=\"DC_117_paginationTable\"]')))\n",
    "            next_button = pagination.find_element(By.XPATH, f'//div[@class=\"DC_117_pageTabs \" and text()={i+1}]')\n",
    "            time.sleep(3)\n",
    "            actions = ActionChains(driver)\n",
    "            actions.send_keys(Keys.PAGE_DOWN).perform()\n",
    "            \n",
    "            \n",
    "        except NoSuchElementException:\n",
    "            print(f\"No more pages to paginate at step {i}\")\n",
    "            break\n",
    "            \n",
    "    return LINKS_Uttra_pradesh,ROUTE_Uttra_pradesh\n",
    "LINKS_Uttra_pradesh,ROUTE_Uttra_pradesh=Uttra_pradesh_route(\"//a[@class='route']\")"
   ]
  },
  {
   "cell_type": "code",
   "execution_count": 37,
   "metadata": {},
   "outputs": [],
   "source": [
    "df_Uttra_pradesh=pd.DataFrame({\"Route_name\":ROUTE_Uttra_pradesh,\"Route_link\":LINKS_Uttra_pradesh})\n",
    "# change dataframe to csv\n",
    "path=r\"E:/Redbus_Project/df_Uttra_pradesh.csv\"\n",
    "df_Uttra_pradesh.to_csv(path,index=False)"
   ]
  },
  {
   "cell_type": "markdown",
   "metadata": {},
   "source": [
    "# **West Bengal Routs**"
   ]
  },
  {
   "cell_type": "code",
   "execution_count": 38,
   "metadata": {},
   "outputs": [],
   "source": [
    "driver=webdriver.Chrome()\n",
    "driver.get(\"https://www.redbus.in/online-booking/wbtc-ctc/?utm_source=rtchometile\")\n",
    "time.sleep(3)\n",
    "driver.maximize_window()"
   ]
  },
  {
   "cell_type": "code",
   "execution_count": 39,
   "metadata": {},
   "outputs": [
    {
     "name": "stdout",
     "output_type": "stream",
     "text": [
      "No more pages to paginate at step 5\n"
     ]
    }
   ],
   "source": [
    "#retrive  bus links and route\n",
    "wait = WebDriverWait(driver, 20)\n",
    "def West_bengal_route(path):  \n",
    "    LINKS_West_bengal=[]\n",
    "    ROUTE_West_bengal=[]\n",
    "    # retrive the route links \n",
    "    for i in range(1,6):\n",
    "        paths=driver.find_elements(By.XPATH,path)\n",
    "        for links in paths:\n",
    "            d = links.get_attribute(\"href\")\n",
    "            LINKS_West_bengal.append(d)\n",
    "            \n",
    "        # retrive names of the routes\n",
    "        for route in paths:\n",
    "            ROUTE_West_bengal.append(route.text)\n",
    "            \n",
    "        try:\n",
    "            # Wait for the pagination element to be present\n",
    "            pagination = wait.until(EC.presence_of_element_located((By.XPATH, '//*[@class=\"DC_117_paginationTable\"]')))\n",
    "            next_button = pagination.find_element(By.XPATH, f'//div[@class=\"DC_117_pageTabs \" and text()={i+1}]')\n",
    "            time.sleep(3)\n",
    "            actions = ActionChains(driver)\n",
    "            actions.send_keys(Keys.PAGE_DOWN).perform()\n",
    "            \n",
    "            \n",
    "        except NoSuchElementException:\n",
    "            print(f\"No more pages to paginate at step {i}\")\n",
    "            break\n",
    "            \n",
    "    return LINKS_West_bengal,ROUTE_West_bengal\n",
    "LINKS_West_bengal,ROUTE_West_bengal=Uttra_pradesh_route(\"//a[@class='route']\")"
   ]
  },
  {
   "cell_type": "code",
   "execution_count": 40,
   "metadata": {},
   "outputs": [],
   "source": [
    "df_West_bengal=pd.DataFrame({\"Route_name\":ROUTE_West_bengal,\"Route_link\":LINKS_West_bengal})\n",
    "# change dataframe to csv\n",
    "path=r\"E:/Redbus_Project/df_West_bengal.csv\"\n",
    "df_West_bengal.to_csv(path,index=False)"
   ]
  },
  {
   "cell_type": "code",
   "execution_count": 41,
   "metadata": {},
   "outputs": [
    {
     "data": {
      "text/html": [
       "<div>\n",
       "<style scoped>\n",
       "    .dataframe tbody tr th:only-of-type {\n",
       "        vertical-align: middle;\n",
       "    }\n",
       "\n",
       "    .dataframe tbody tr th {\n",
       "        vertical-align: top;\n",
       "    }\n",
       "\n",
       "    .dataframe thead th {\n",
       "        text-align: right;\n",
       "    }\n",
       "</style>\n",
       "<table border=\"1\" class=\"dataframe\">\n",
       "  <thead>\n",
       "    <tr style=\"text-align: right;\">\n",
       "      <th></th>\n",
       "      <th>Route_name</th>\n",
       "      <th>Route_link</th>\n",
       "    </tr>\n",
       "  </thead>\n",
       "  <tbody>\n",
       "    <tr>\n",
       "      <th>0</th>\n",
       "      <td>Bangalore to Kozhikode</td>\n",
       "      <td>https://www.redbus.in/bus-tickets/bangalore-to...</td>\n",
       "    </tr>\n",
       "    <tr>\n",
       "      <th>1</th>\n",
       "      <td>Kozhikode to Ernakulam</td>\n",
       "      <td>https://www.redbus.in/bus-tickets/kozhikode-to...</td>\n",
       "    </tr>\n",
       "    <tr>\n",
       "      <th>2</th>\n",
       "      <td>Kozhikode to Bangalore</td>\n",
       "      <td>https://www.redbus.in/bus-tickets/kozhikode-to...</td>\n",
       "    </tr>\n",
       "    <tr>\n",
       "      <th>3</th>\n",
       "      <td>Ernakulam to Kozhikode</td>\n",
       "      <td>https://www.redbus.in/bus-tickets/ernakulam-to...</td>\n",
       "    </tr>\n",
       "    <tr>\n",
       "      <th>4</th>\n",
       "      <td>Kozhikode to Mysore</td>\n",
       "      <td>https://www.redbus.in/bus-tickets/kozhikode-to...</td>\n",
       "    </tr>\n",
       "    <tr>\n",
       "      <th>...</th>\n",
       "      <td>...</td>\n",
       "      <td>...</td>\n",
       "    </tr>\n",
       "    <tr>\n",
       "      <th>415</th>\n",
       "      <td>Bolpur (West Bengal) to Kolkata</td>\n",
       "      <td>https://www.redbus.in/bus-tickets/bolpur-west-...</td>\n",
       "    </tr>\n",
       "    <tr>\n",
       "      <th>416</th>\n",
       "      <td>Kolkata to Suri</td>\n",
       "      <td>https://www.redbus.in/bus-tickets/kolkata-to-suri</td>\n",
       "    </tr>\n",
       "    <tr>\n",
       "      <th>417</th>\n",
       "      <td>Digha to Kolkata</td>\n",
       "      <td>https://www.redbus.in/bus-tickets/digha-to-kol...</td>\n",
       "    </tr>\n",
       "    <tr>\n",
       "      <th>418</th>\n",
       "      <td>Kolkata to Durgapur (West Bengal)</td>\n",
       "      <td>https://www.redbus.in/bus-tickets/kolkata-to-d...</td>\n",
       "    </tr>\n",
       "    <tr>\n",
       "      <th>419</th>\n",
       "      <td>Habra to Digha</td>\n",
       "      <td>https://www.redbus.in/bus-tickets/habra-to-digha</td>\n",
       "    </tr>\n",
       "  </tbody>\n",
       "</table>\n",
       "<p>420 rows × 2 columns</p>\n",
       "</div>"
      ],
      "text/plain": [
       "                            Route_name  \\\n",
       "0               Bangalore to Kozhikode   \n",
       "1               Kozhikode to Ernakulam   \n",
       "2               Kozhikode to Bangalore   \n",
       "3               Ernakulam to Kozhikode   \n",
       "4                  Kozhikode to Mysore   \n",
       "..                                 ...   \n",
       "415    Bolpur (West Bengal) to Kolkata   \n",
       "416                    Kolkata to Suri   \n",
       "417                   Digha to Kolkata   \n",
       "418  Kolkata to Durgapur (West Bengal)   \n",
       "419                     Habra to Digha   \n",
       "\n",
       "                                            Route_link  \n",
       "0    https://www.redbus.in/bus-tickets/bangalore-to...  \n",
       "1    https://www.redbus.in/bus-tickets/kozhikode-to...  \n",
       "2    https://www.redbus.in/bus-tickets/kozhikode-to...  \n",
       "3    https://www.redbus.in/bus-tickets/ernakulam-to...  \n",
       "4    https://www.redbus.in/bus-tickets/kozhikode-to...  \n",
       "..                                                 ...  \n",
       "415  https://www.redbus.in/bus-tickets/bolpur-west-...  \n",
       "416  https://www.redbus.in/bus-tickets/kolkata-to-suri  \n",
       "417  https://www.redbus.in/bus-tickets/digha-to-kol...  \n",
       "418  https://www.redbus.in/bus-tickets/kolkata-to-d...  \n",
       "419   https://www.redbus.in/bus-tickets/habra-to-digha  \n",
       "\n",
       "[420 rows x 2 columns]"
      ]
     },
     "execution_count": 41,
     "metadata": {},
     "output_type": "execute_result"
    }
   ],
   "source": [
    "# concat all the bus link and route names in one dataframe\n",
    "df=pd.concat([df_kerala,df_Aandhra,df_Telungana,df_Goa,df_Rajastan,df_South_Bengal,df_Haryana,df_Assam,df_Uttra_pradesh,df_West_bengal],ignore_index=True)\n",
    "df"
   ]
  },
  {
   "cell_type": "code",
   "execution_count": 42,
   "metadata": {},
   "outputs": [],
   "source": [
    "# change dataframe to csv\n",
    "path=r\"E:/Redbus_Project/df_routes.csv\"\n",
    "df.to_csv(path,index=False)"
   ]
  }
 ],
 "metadata": {
  "kernelspec": {
   "display_name": "Python 3",
   "language": "python",
   "name": "python3"
  },
  "language_info": {
   "codemirror_mode": {
    "name": "ipython",
    "version": 3
   },
   "file_extension": ".py",
   "mimetype": "text/x-python",
   "name": "python",
   "nbconvert_exporter": "python",
   "pygments_lexer": "ipython3",
   "version": "3.12.4"
  }
 },
 "nbformat": 4,
 "nbformat_minor": 2
}
